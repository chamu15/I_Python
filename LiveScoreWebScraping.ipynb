{
 "cells": [
  {
   "cell_type": "code",
   "execution_count": null,
   "metadata": {},
   "outputs": [
    {
     "name": "stdin",
     "output_type": "stream",
     "text": [
      "Do you want to refresh scores? [Y/N] Y\n"
     ]
    },
    {
     "name": "stdout",
     "output_type": "stream",
     "text": [
      "------------------------------------------\n",
      "Latest scores from Cricinfo\n",
      "New Zealand A 308/3  v West Indians 17/1 *\n"
     ]
    },
    {
     "name": "stdin",
     "output_type": "stream",
     "text": [
      "Do you want to refresh scores? [Y/N] y\n"
     ]
    },
    {
     "name": "stdout",
     "output_type": "stream",
     "text": [
      "Please enter “Y” or “N” only\n"
     ]
    },
    {
     "name": "stdin",
     "output_type": "stream",
     "text": [
      "Do you want to refresh scores? [Y/N] Y\n"
     ]
    },
    {
     "name": "stdout",
     "output_type": "stream",
     "text": [
      "------------------------------------------\n",
      "Latest scores from Cricinfo\n",
      "New Zealand A 308/3  v West Indians 17/1 *\n"
     ]
    }
   ],
   "source": [
    "from bs4 import BeautifulSoup\n",
    "import urllib.request\n",
    "score_page = \"http://static.cricinfo.com/rss/livescores.xml\"\n",
    "while True:\n",
    "    page = urllib.request.urlopen(score_page)\n",
    "    soup = BeautifulSoup(page, \"html.parser\")\n",
    "    result = soup.find_all(\"description\")\n",
    "    message = input(\"Do you want to refresh scores? [Y/N]\")\n",
    "    if message == \"Y\":\n",
    "        print('------------------------------------------')\n",
    "        for match in result:\n",
    "            print(match.get_text())\n",
    "    elif message == \"N\":\n",
    "        break\n",
    "    else:\n",
    "        print(\"Please enter “Y” or “N” only\")\n",
    "        continue"
   ]
  }
 ],
 "metadata": {
  "kernelspec": {
   "display_name": "Python 3",
   "language": "python",
   "name": "python3"
  },
  "language_info": {
   "codemirror_mode": {
    "name": "ipython",
    "version": 3
   },
   "file_extension": ".py",
   "mimetype": "text/x-python",
   "name": "python",
   "nbconvert_exporter": "python",
   "pygments_lexer": "ipython3",
   "version": "3.8.3"
  }
 },
 "nbformat": 4,
 "nbformat_minor": 4
}
