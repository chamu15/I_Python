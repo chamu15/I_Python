{
 "cells": [
  {
   "cell_type": "code",
   "execution_count": 13,
   "metadata": {},
   "outputs": [],
   "source": [
    "import numpy as np\n",
    "import pandas as pd"
   ]
  },
  {
   "cell_type": "code",
   "execution_count": 15,
   "metadata": {},
   "outputs": [
    {
     "name": "stdin",
     "output_type": "stream",
     "text": [
      "Enter the cost of the house to buy:  325000\n",
      "The percentage of the house amount to take loan on:  1\n"
     ]
    },
    {
     "name": "stdout",
     "output_type": "stream",
     "text": [
      "The Loan amount seeked by the individual is: 325000.0\n"
     ]
    }
   ],
   "source": [
    "house_cost = float(input('Enter the cost of the house to buy: '))\n",
    "perc_loan = float(input('The percentage of the house amount to take loan on: '))\n",
    "loan_amount = house_cost * perc_loan\n",
    "\n",
    "print('The Loan amount seeked by the individual is:',loan_amount)"
   ]
  },
  {
   "cell_type": "code",
   "execution_count": 16,
   "metadata": {},
   "outputs": [
    {
     "name": "stdin",
     "output_type": "stream",
     "text": [
      "The income of the individaul seeking loan per month 3000\n",
      "The expense of the individaul seeking loan per month 1750\n"
     ]
    },
    {
     "name": "stdout",
     "output_type": "stream",
     "text": [
      "The budget that the individual can afford per month for loan is: 1250.0\n"
     ]
    }
   ],
   "source": [
    "ind_income = float(input('The income of the individaul seeking loan per month'))\n",
    "all_other_expense = float(input('The expense of the individaul seeking loan per month'))\n",
    "\n",
    "housing_costs_budget = ind_income - all_other_expense\n",
    "print('The budget that the individual can afford per month for loan is:', housing_costs_budget)"
   ]
  },
  {
   "cell_type": "code",
   "execution_count": 17,
   "metadata": {},
   "outputs": [],
   "source": [
    "loan_amount_split=[(100,0),(25,75),(50,50),(75,25),(0,100)]\n",
    "interst_only_interst = [1.4,1.4,1.43,1.53,1.63,1.63,1.63,1.63,1.63,1.65,1.74,1.84,1.91,1.93,1.98,1.968,1.98,1.98,1.98,2.06,2.06,2.06,2.06,2.06,2.41,2.41,2.41,2.41,2.41,2.45] \n",
    "annuity_interst = list(map(lambda x:round(x-0.1,3),interst_only_interst))\n",
    "mortage_amount = 60000\n",
    "mortage_used = False"
   ]
  },
  {
   "cell_type": "code",
   "execution_count": 18,
   "metadata": {},
   "outputs": [],
   "source": [
    "def logic_check_for_best(split):\n",
    "        \n",
    "          \n",
    "    interst_only_loan_amount = split[0]*loan_amount/100\n",
    "    annuity_loan_amount  = split[1]*loan_amount/100\n",
    "    best_sub_score =[]\n",
    "    for i in range(len(interst_only_interst)):\n",
    "        for j in range(len(annuity_interst)):\n",
    "            interest_only_interset = round((interst_only_loan_amount*interst_only_interst[i]/100) / 12, 3)\n",
    "            annuity_only_interst = round((annulaity_loan_amount*annuity_interst[j]/100) / 12, 3)\n",
    "\n",
    "            interst_only_main_amount = round(interst_only_loan_amount/((i+1)*12),3)\n",
    "            annuity_only_main_amount = round(annuity_loan_amount/((j+1)*12),3)\n",
    "\n",
    "            monthly_bill_for_interst_only =  interest_only_interset + interst_only_main_amount\n",
    "            monthly_bill_for_annuity_only =  annuity_only_interst + annuity_only_main_amount\n",
    "\n",
    "            interst_only_tax_benefit = (0.3735 * interest_only_interset)\n",
    "            annuity_only__tax_benefit = (0.3735 * annuity_only_interst)     \n",
    "            total_tax_benefit = interst_only_tax_benefit + annuity_only__tax_benefit\n",
    "            \n",
    "            total_monthly_spend = round(monthly_bill_for_interst_only + monthly_bill_for_annuity_only - total_tax_benefit,2)\n",
    "            \n",
    "            if total_monthly_spend < housing_costs_budget:\n",
    "                best_sub_score.append([total_monthly_spend,interst_only_loan_amount, annuity_loan_amount, i+1,j+1])\n",
    "            \n",
    "\n",
    "    if(len(best_sub_score)==0):\n",
    "        return []\n",
    "\n",
    "    max_best_sub_score = np.argmax(np.array(best_sub_score))\n",
    "    \n",
    "    return best_sub_score[max_best_sub_score]\n"
   ]
  },
  {
   "cell_type": "code",
   "execution_count": 19,
   "metadata": {
    "tags": []
   },
   "outputs": [
    {
     "name": "stdout",
     "output_type": "stream",
     "text": [
      "[[], [], [], [], []]\n",
      "No optimal solution found need to take mortage of 60000\n",
      "Calculating again with mortage\n",
      "[[1245.15, 265000.0, 0.0, 23, 2], [1244.33, 66250.0, 198750.0, 16, 28], [1248.73, 132500.0, 132500.0, 20, 28], [1236.87, 198750.0, 66250.0, 22, 29], [1202.93, 0.0, 265000.0, 1, 25]]\n"
     ]
    }
   ],
   "source": [
    "while(True):\n",
    "    best_loan_amount_split = [logic_check_for_best(loan_amount_split[0]),logic_check_for_best(loan_amount_split[1]),logic_check_for_best(loan_amount_split[2]),logic_check_for_best(loan_amount_split[3]),logic_check_for_best(loan_amount_split[4])]\n",
    "    \n",
    "    print(best_loan_amount_split)    \n",
    "    \n",
    "    if(mortage_used==False and len(max(best_loan_amount_split))==0):\n",
    "        print('No optimal solution found need to take mortage of '+str(mortage_amount))\n",
    "        print('Calculating again with mortage')\n",
    "        loan_amount = loan_amount - mortage_amount\n",
    "        mortage_used = True\n",
    "        continue\n",
    "    elif(len(best_loan_amount_split)==0):\n",
    "        print('No solution found even with mortage')\n",
    "        print('exiting the logic .............')\n",
    "        break\n",
    "\n",
    "    break"
   ]
  },
  {
   "cell_type": "code",
   "execution_count": 20,
   "metadata": {},
   "outputs": [
    {
     "data": {
      "text/plain": [
       "9"
      ]
     },
     "execution_count": 20,
     "metadata": {},
     "output_type": "execute_result"
    }
   ],
   "source": []
  }
 ],
 "metadata": {
  "kernelspec": {
   "display_name": "Python 3",
   "language": "python",
   "name": "python3"
  },
  "language_info": {
   "codemirror_mode": {
    "name": "ipython",
    "version": 3
   },
   "file_extension": ".py",
   "mimetype": "text/x-python",
   "name": "python",
   "nbconvert_exporter": "python",
   "pygments_lexer": "ipython3",
   "version": "3.8.3"
  }
 },
 "nbformat": 4,
 "nbformat_minor": 4
}
